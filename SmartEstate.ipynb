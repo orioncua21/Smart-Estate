{
  "nbformat": 4,
  "nbformat_minor": 0,
  "metadata": {
    "colab": {
      "name": "SmartEstate.ipynb",
      "provenance": [],
      "collapsed_sections": [],
      "authorship_tag": "ABX9TyNssmQTEvUIJJLg6YjJibXp",
      "include_colab_link": true
    },
    "kernelspec": {
      "name": "python3",
      "display_name": "Python 3"
    },
    "language_info": {
      "name": "python"
    }
  },
  "cells": [
    {
      "cell_type": "markdown",
      "metadata": {
        "id": "view-in-github",
        "colab_type": "text"
      },
      "source": [
        "<a href=\"https://colab.research.google.com/github/orioncua21/Smart-Estate/blob/main/SmartEstate.ipynb\" target=\"_parent\"><img src=\"https://colab.research.google.com/assets/colab-badge.svg\" alt=\"Open In Colab\"/></a>"
      ]
    },
    {
      "cell_type": "markdown",
      "source": [
        "Orion Cua\n",
        "\n",
        "Project Group 12\n",
        "\n",
        "CS 482\n",
        "\n",
        "Smart Estate - Predicting Housing Sale Prices"
      ],
      "metadata": {
        "id": "5sPPks70sj08"
      }
    },
    {
      "cell_type": "markdown",
      "source": [
        "**Overview:**\n",
        "\n",
        "The purpose of this project is to predict the sale prices of houses given nearly 80 variables describing the home. Ultimately, we will be using a Random Forest method to predict the sale prices. Along the way, I will be showcasing the benefits of JAX and how it can be used in a machine learning environment."
      ],
      "metadata": {
        "id": "709Kl9nEpaq4"
      }
    },
    {
      "cell_type": "markdown",
      "source": [
        "For this project, we will import jax.numpy, as this is what we will be showcasing in this project. We will also import the pandas package to import and manipulate the dataset. Matplotlib and seaborn will be used to make graphs and visualizations of the data.\n",
        "\n",
        "For this project, I will be importing the data from google drive."
      ],
      "metadata": {
        "id": "mt7rBXMFoD3E"
      }
    },
    {
      "cell_type": "code",
      "source": [
        "import jax.numpy as jnp\n",
        "import jax\n",
        "import pandas as pd\n",
        "import matplotlib.pyplot as plt\n",
        "import seaborn as sns\n",
        "import numpy as np\n",
        "from google.colab import drive\n",
        "!pip install fast_ml\n",
        "drive.mount(\"/gdrive\")"
      ],
      "metadata": {
        "colab": {
          "base_uri": "https://localhost:8080/"
        },
        "id": "QDDQCsTms6j-",
        "outputId": "1648d921-7ff4-4845-ee0b-2a02ff88626b"
      },
      "execution_count": null,
      "outputs": [
        {
          "output_type": "stream",
          "name": "stdout",
          "text": [
            "Requirement already satisfied: fast_ml in /usr/local/lib/python3.7/dist-packages (3.68)\n",
            "Drive already mounted at /gdrive; to attempt to forcibly remount, call drive.mount(\"/gdrive\", force_remount=True).\n"
          ]
        }
      ]
    },
    {
      "cell_type": "markdown",
      "source": [
        "Before we get started on the Kaggle competition data, I will demonstrate some of the capabilities of JAX in python.\n",
        "\n",
        "First, we will create a random uniform matrix. In this case, the size will be 7,500 x 7,500. We make the array large to demonstrate the efficiency of jax vs numpy."
      ],
      "metadata": {
        "id": "5UHEY7iJDXxF"
      }
    },
    {
      "cell_type": "code",
      "source": [
        "from jax import random\n",
        "\n",
        "key = random.PRNGKey(0)\n",
        "jax_matrix = random.uniform(key, (7500,7500), minval=0, maxval=100)\n",
        "numpy_matrix = np.random.uniform(low=0, high = 100, size=(7500,7500))"
      ],
      "metadata": {
        "colab": {
          "base_uri": "https://localhost:8080/"
        },
        "id": "yKQlmhryHWlp",
        "outputId": "b60dc6ca-c65e-4248-ab3f-cf37778e496d"
      },
      "execution_count": null,
      "outputs": [
        {
          "output_type": "stream",
          "name": "stderr",
          "text": [
            "WARNING:absl:No GPU/TPU found, falling back to CPU. (Set TF_CPP_MIN_LOG_LEVEL=0 and rerun for more info.)\n"
          ]
        }
      ]
    },
    {
      "cell_type": "markdown",
      "source": [
        "We will attempt to do some calculations on this large array and time it to test the difference between the numpy and jax arrays. First, we will do numpy calculations."
      ],
      "metadata": {
        "id": "5wlfBbEXIS2r"
      }
    },
    {
      "cell_type": "code",
      "source": [
        "def np_squared_mult_mean(x):\n",
        "  squared = np.square(x)\n",
        "  result = np.dot(squared, squared.T).mean()\n",
        "  print(result)\n",
        "  return result\n",
        "\n",
        "%time np_squared_mult_mean(numpy_matrix)"
      ],
      "metadata": {
        "colab": {
          "base_uri": "https://localhost:8080/"
        },
        "id": "V9QqHJrBJ4ez",
        "outputId": "086f555d-8f74-4f53-a393-eb5027c466bd"
      },
      "execution_count": null,
      "outputs": [
        {
          "output_type": "stream",
          "name": "stdout",
          "text": [
            "83337333096.06104\n",
            "CPU times: user 22.5 s, sys: 1.7 s, total: 24.2 s\n",
            "Wall time: 23.2 s\n"
          ]
        },
        {
          "output_type": "execute_result",
          "data": {
            "text/plain": [
              "83337333096.06104"
            ]
          },
          "metadata": {},
          "execution_count": 4
        }
      ]
    },
    {
      "cell_type": "markdown",
      "source": [
        "As you can see, it takes about 23.2 seconds to compute. Now let's try it with JAX."
      ],
      "metadata": {
        "id": "QoZv6hd9KYXC"
      }
    },
    {
      "cell_type": "code",
      "source": [
        "from jax import jit\n",
        "def jax_squared_mult_mean(x):\n",
        "  squared = jnp.square(x)\n",
        "  result = jnp.dot(squared, squared.T).mean()\n",
        "  print(result)\n",
        "  return result\n",
        "\n",
        "jit_jax_squared_mult_mean = jit(jax_squared_mult_mean)\n",
        "%time jit_jax_squared_mult_mean(jax_matrix)"
      ],
      "metadata": {
        "colab": {
          "base_uri": "https://localhost:8080/"
        },
        "id": "vyBSI96pLv-1",
        "outputId": "29dd1b6f-17f7-4f8a-9549-aa6a0d56ff24"
      },
      "execution_count": null,
      "outputs": [
        {
          "output_type": "stream",
          "name": "stdout",
          "text": [
            "Traced<ShapedArray(float32[])>with<DynamicJaxprTrace(level=0/1)>\n",
            "CPU times: user 26.6 s, sys: 33.6 ms, total: 26.6 s\n",
            "Wall time: 13.9 s\n"
          ]
        },
        {
          "output_type": "execute_result",
          "data": {
            "text/plain": [
              "DeviceArray(8.3375915e+10, dtype=float32)"
            ]
          },
          "metadata": {},
          "execution_count": 5
        }
      ]
    },
    {
      "cell_type": "markdown",
      "source": [
        "We can see that the if we include the jit package from jax, that the time is significantly reduced. Something like this is extremely pivital in machine learning and data science, since there will be very larg datasets and multiple operations that take place. Reducing a few seconds off of an operation can mean incredible improvement in efficiency. This is only the surface of the capabilities of JAX, and we will use it further when using it on a Decision Tree implementation to solve a Kaggle Competition problem.\n",
        "\n",
        "The Kaggle competition tasks us to predict the sales price of a set of houses. We are given nearly 80 variables that will describe each property and will help us to determine the price. There are many ways to predict the prices, but I will be implementing a Random Forest method to predict the prices."
      ],
      "metadata": {
        "id": "JiRhz6MOTibI"
      }
    },
    {
      "cell_type": "markdown",
      "source": [
        "The test and train files are located in my google drive, which I connected with this file and was therefore able to locate and import. I will read the datasets into Colab using pandas."
      ],
      "metadata": {
        "id": "RJCJugu9pLT3"
      }
    },
    {
      "cell_type": "code",
      "source": [
        "%cd /gdrive\n",
        "test_file = r'/gdrive/MyDrive/Colab Notebooks/test.csv'\n",
        "train_file = r'/gdrive/MyDrive/Colab Notebooks/train.csv'\n",
        "train_data = pd.read_csv(train_file)\n",
        "test_data = pd.read_csv(test_file)"
      ],
      "metadata": {
        "colab": {
          "base_uri": "https://localhost:8080/"
        },
        "id": "9i26_e8-qyXr",
        "outputId": "26b46c3c-c3f2-4cb5-9f12-92643fb4d9f8"
      },
      "execution_count": null,
      "outputs": [
        {
          "output_type": "stream",
          "name": "stdout",
          "text": [
            "/gdrive\n"
          ]
        }
      ]
    },
    {
      "cell_type": "markdown",
      "source": [
        "The first step is to clean the data using our knowledge, research and analytics.\n",
        "\n",
        "We will drop the ID column from both datasets since it is not a variable that will factor into the sale price. We will save the ID from the test set, as we will need to combine it with the predicted sale price at the end."
      ],
      "metadata": {
        "id": "clRumBaEqSL-"
      }
    },
    {
      "cell_type": "code",
      "source": [
        "train_data.drop([\"Id\"], axis=1)\n",
        "\n",
        "Test_IDs = test_data[\"Id\"]\n",
        "test_data.drop([\"Id\"], axis=1)"
      ],
      "metadata": {
        "colab": {
          "base_uri": "https://localhost:8080/",
          "height": 487
        },
        "id": "lsn_EYfDw70C",
        "outputId": "c607f688-9af5-4711-d7ef-9cb54e2b091e"
      },
      "execution_count": null,
      "outputs": [
        {
          "output_type": "execute_result",
          "data": {
            "text/plain": [
              "      MSSubClass MSZoning  LotFrontage  LotArea LotShape LandContour  \\\n",
              "0             20       RH         80.0    11622      Reg         Lvl   \n",
              "1             20       RL         81.0    14267      IR1         Lvl   \n",
              "2             60       RL         74.0    13830      IR1         Lvl   \n",
              "3             60       RL         78.0     9978      IR1         Lvl   \n",
              "4            120       RL         43.0     5005      IR1         HLS   \n",
              "...          ...      ...          ...      ...      ...         ...   \n",
              "1454         160       RM         21.0     1936      Reg         Lvl   \n",
              "1455         160       RM         21.0     1894      Reg         Lvl   \n",
              "1456          20       RL        160.0    20000      Reg         Lvl   \n",
              "1457          85       RL         62.0    10441      Reg         Lvl   \n",
              "1458          60       RL         74.0     9627      Reg         Lvl   \n",
              "\n",
              "     LotConfig Neighborhood Condition1 BldgType  ... GarageFinish  GarageCars  \\\n",
              "0       Inside        NAmes      Feedr     1Fam  ...          Unf         1.0   \n",
              "1       Corner        NAmes       Norm     1Fam  ...          Unf         1.0   \n",
              "2       Inside      Gilbert       Norm     1Fam  ...          Fin         2.0   \n",
              "3       Inside      Gilbert       Norm     1Fam  ...          Fin         2.0   \n",
              "4       Inside      StoneBr       Norm   TwnhsE  ...          RFn         2.0   \n",
              "...        ...          ...        ...      ...  ...          ...         ...   \n",
              "1454    Inside      MeadowV       Norm    Twnhs  ...          NaN         0.0   \n",
              "1455    Inside      MeadowV       Norm   TwnhsE  ...          Unf         1.0   \n",
              "1456    Inside      Mitchel       Norm     1Fam  ...          Unf         2.0   \n",
              "1457    Inside      Mitchel       Norm     1Fam  ...          NaN         0.0   \n",
              "1458    Inside      Mitchel       Norm     1Fam  ...          Fin         3.0   \n",
              "\n",
              "      GarageArea  GarageQual  WoodDeckSF OpenPorchSF EnclosedPorch  \\\n",
              "0          730.0          TA         140           0             0   \n",
              "1          312.0          TA         393          36             0   \n",
              "2          482.0          TA         212          34             0   \n",
              "3          470.0          TA         360          36             0   \n",
              "4          506.0          TA           0          82             0   \n",
              "...          ...         ...         ...         ...           ...   \n",
              "1454         0.0         NaN           0           0             0   \n",
              "1455       286.0          TA           0          24             0   \n",
              "1456       576.0          TA         474           0             0   \n",
              "1457         0.0         NaN          80          32             0   \n",
              "1458       650.0          TA         190          48             0   \n",
              "\n",
              "     ScreenPorch SaleType  SaleCondition  \n",
              "0            120       WD         Normal  \n",
              "1              0       WD         Normal  \n",
              "2              0       WD         Normal  \n",
              "3              0       WD         Normal  \n",
              "4            144       WD         Normal  \n",
              "...          ...      ...            ...  \n",
              "1454           0       WD         Normal  \n",
              "1455           0       WD        Abnorml  \n",
              "1456           0       WD        Abnorml  \n",
              "1457           0       WD         Normal  \n",
              "1458           0       WD         Normal  \n",
              "\n",
              "[1459 rows x 55 columns]"
            ],
            "text/html": [
              "\n",
              "  <div id=\"df-d5d44f30-9b5a-44e4-910c-9055e1b13ce3\">\n",
              "    <div class=\"colab-df-container\">\n",
              "      <div>\n",
              "<style scoped>\n",
              "    .dataframe tbody tr th:only-of-type {\n",
              "        vertical-align: middle;\n",
              "    }\n",
              "\n",
              "    .dataframe tbody tr th {\n",
              "        vertical-align: top;\n",
              "    }\n",
              "\n",
              "    .dataframe thead th {\n",
              "        text-align: right;\n",
              "    }\n",
              "</style>\n",
              "<table border=\"1\" class=\"dataframe\">\n",
              "  <thead>\n",
              "    <tr style=\"text-align: right;\">\n",
              "      <th></th>\n",
              "      <th>MSSubClass</th>\n",
              "      <th>MSZoning</th>\n",
              "      <th>LotFrontage</th>\n",
              "      <th>LotArea</th>\n",
              "      <th>LotShape</th>\n",
              "      <th>LandContour</th>\n",
              "      <th>LotConfig</th>\n",
              "      <th>Neighborhood</th>\n",
              "      <th>Condition1</th>\n",
              "      <th>BldgType</th>\n",
              "      <th>...</th>\n",
              "      <th>GarageFinish</th>\n",
              "      <th>GarageCars</th>\n",
              "      <th>GarageArea</th>\n",
              "      <th>GarageQual</th>\n",
              "      <th>WoodDeckSF</th>\n",
              "      <th>OpenPorchSF</th>\n",
              "      <th>EnclosedPorch</th>\n",
              "      <th>ScreenPorch</th>\n",
              "      <th>SaleType</th>\n",
              "      <th>SaleCondition</th>\n",
              "    </tr>\n",
              "  </thead>\n",
              "  <tbody>\n",
              "    <tr>\n",
              "      <th>0</th>\n",
              "      <td>20</td>\n",
              "      <td>RH</td>\n",
              "      <td>80.0</td>\n",
              "      <td>11622</td>\n",
              "      <td>Reg</td>\n",
              "      <td>Lvl</td>\n",
              "      <td>Inside</td>\n",
              "      <td>NAmes</td>\n",
              "      <td>Feedr</td>\n",
              "      <td>1Fam</td>\n",
              "      <td>...</td>\n",
              "      <td>Unf</td>\n",
              "      <td>1.0</td>\n",
              "      <td>730.0</td>\n",
              "      <td>TA</td>\n",
              "      <td>140</td>\n",
              "      <td>0</td>\n",
              "      <td>0</td>\n",
              "      <td>120</td>\n",
              "      <td>WD</td>\n",
              "      <td>Normal</td>\n",
              "    </tr>\n",
              "    <tr>\n",
              "      <th>1</th>\n",
              "      <td>20</td>\n",
              "      <td>RL</td>\n",
              "      <td>81.0</td>\n",
              "      <td>14267</td>\n",
              "      <td>IR1</td>\n",
              "      <td>Lvl</td>\n",
              "      <td>Corner</td>\n",
              "      <td>NAmes</td>\n",
              "      <td>Norm</td>\n",
              "      <td>1Fam</td>\n",
              "      <td>...</td>\n",
              "      <td>Unf</td>\n",
              "      <td>1.0</td>\n",
              "      <td>312.0</td>\n",
              "      <td>TA</td>\n",
              "      <td>393</td>\n",
              "      <td>36</td>\n",
              "      <td>0</td>\n",
              "      <td>0</td>\n",
              "      <td>WD</td>\n",
              "      <td>Normal</td>\n",
              "    </tr>\n",
              "    <tr>\n",
              "      <th>2</th>\n",
              "      <td>60</td>\n",
              "      <td>RL</td>\n",
              "      <td>74.0</td>\n",
              "      <td>13830</td>\n",
              "      <td>IR1</td>\n",
              "      <td>Lvl</td>\n",
              "      <td>Inside</td>\n",
              "      <td>Gilbert</td>\n",
              "      <td>Norm</td>\n",
              "      <td>1Fam</td>\n",
              "      <td>...</td>\n",
              "      <td>Fin</td>\n",
              "      <td>2.0</td>\n",
              "      <td>482.0</td>\n",
              "      <td>TA</td>\n",
              "      <td>212</td>\n",
              "      <td>34</td>\n",
              "      <td>0</td>\n",
              "      <td>0</td>\n",
              "      <td>WD</td>\n",
              "      <td>Normal</td>\n",
              "    </tr>\n",
              "    <tr>\n",
              "      <th>3</th>\n",
              "      <td>60</td>\n",
              "      <td>RL</td>\n",
              "      <td>78.0</td>\n",
              "      <td>9978</td>\n",
              "      <td>IR1</td>\n",
              "      <td>Lvl</td>\n",
              "      <td>Inside</td>\n",
              "      <td>Gilbert</td>\n",
              "      <td>Norm</td>\n",
              "      <td>1Fam</td>\n",
              "      <td>...</td>\n",
              "      <td>Fin</td>\n",
              "      <td>2.0</td>\n",
              "      <td>470.0</td>\n",
              "      <td>TA</td>\n",
              "      <td>360</td>\n",
              "      <td>36</td>\n",
              "      <td>0</td>\n",
              "      <td>0</td>\n",
              "      <td>WD</td>\n",
              "      <td>Normal</td>\n",
              "    </tr>\n",
              "    <tr>\n",
              "      <th>4</th>\n",
              "      <td>120</td>\n",
              "      <td>RL</td>\n",
              "      <td>43.0</td>\n",
              "      <td>5005</td>\n",
              "      <td>IR1</td>\n",
              "      <td>HLS</td>\n",
              "      <td>Inside</td>\n",
              "      <td>StoneBr</td>\n",
              "      <td>Norm</td>\n",
              "      <td>TwnhsE</td>\n",
              "      <td>...</td>\n",
              "      <td>RFn</td>\n",
              "      <td>2.0</td>\n",
              "      <td>506.0</td>\n",
              "      <td>TA</td>\n",
              "      <td>0</td>\n",
              "      <td>82</td>\n",
              "      <td>0</td>\n",
              "      <td>144</td>\n",
              "      <td>WD</td>\n",
              "      <td>Normal</td>\n",
              "    </tr>\n",
              "    <tr>\n",
              "      <th>...</th>\n",
              "      <td>...</td>\n",
              "      <td>...</td>\n",
              "      <td>...</td>\n",
              "      <td>...</td>\n",
              "      <td>...</td>\n",
              "      <td>...</td>\n",
              "      <td>...</td>\n",
              "      <td>...</td>\n",
              "      <td>...</td>\n",
              "      <td>...</td>\n",
              "      <td>...</td>\n",
              "      <td>...</td>\n",
              "      <td>...</td>\n",
              "      <td>...</td>\n",
              "      <td>...</td>\n",
              "      <td>...</td>\n",
              "      <td>...</td>\n",
              "      <td>...</td>\n",
              "      <td>...</td>\n",
              "      <td>...</td>\n",
              "      <td>...</td>\n",
              "    </tr>\n",
              "    <tr>\n",
              "      <th>1454</th>\n",
              "      <td>160</td>\n",
              "      <td>RM</td>\n",
              "      <td>21.0</td>\n",
              "      <td>1936</td>\n",
              "      <td>Reg</td>\n",
              "      <td>Lvl</td>\n",
              "      <td>Inside</td>\n",
              "      <td>MeadowV</td>\n",
              "      <td>Norm</td>\n",
              "      <td>Twnhs</td>\n",
              "      <td>...</td>\n",
              "      <td>NaN</td>\n",
              "      <td>0.0</td>\n",
              "      <td>0.0</td>\n",
              "      <td>NaN</td>\n",
              "      <td>0</td>\n",
              "      <td>0</td>\n",
              "      <td>0</td>\n",
              "      <td>0</td>\n",
              "      <td>WD</td>\n",
              "      <td>Normal</td>\n",
              "    </tr>\n",
              "    <tr>\n",
              "      <th>1455</th>\n",
              "      <td>160</td>\n",
              "      <td>RM</td>\n",
              "      <td>21.0</td>\n",
              "      <td>1894</td>\n",
              "      <td>Reg</td>\n",
              "      <td>Lvl</td>\n",
              "      <td>Inside</td>\n",
              "      <td>MeadowV</td>\n",
              "      <td>Norm</td>\n",
              "      <td>TwnhsE</td>\n",
              "      <td>...</td>\n",
              "      <td>Unf</td>\n",
              "      <td>1.0</td>\n",
              "      <td>286.0</td>\n",
              "      <td>TA</td>\n",
              "      <td>0</td>\n",
              "      <td>24</td>\n",
              "      <td>0</td>\n",
              "      <td>0</td>\n",
              "      <td>WD</td>\n",
              "      <td>Abnorml</td>\n",
              "    </tr>\n",
              "    <tr>\n",
              "      <th>1456</th>\n",
              "      <td>20</td>\n",
              "      <td>RL</td>\n",
              "      <td>160.0</td>\n",
              "      <td>20000</td>\n",
              "      <td>Reg</td>\n",
              "      <td>Lvl</td>\n",
              "      <td>Inside</td>\n",
              "      <td>Mitchel</td>\n",
              "      <td>Norm</td>\n",
              "      <td>1Fam</td>\n",
              "      <td>...</td>\n",
              "      <td>Unf</td>\n",
              "      <td>2.0</td>\n",
              "      <td>576.0</td>\n",
              "      <td>TA</td>\n",
              "      <td>474</td>\n",
              "      <td>0</td>\n",
              "      <td>0</td>\n",
              "      <td>0</td>\n",
              "      <td>WD</td>\n",
              "      <td>Abnorml</td>\n",
              "    </tr>\n",
              "    <tr>\n",
              "      <th>1457</th>\n",
              "      <td>85</td>\n",
              "      <td>RL</td>\n",
              "      <td>62.0</td>\n",
              "      <td>10441</td>\n",
              "      <td>Reg</td>\n",
              "      <td>Lvl</td>\n",
              "      <td>Inside</td>\n",
              "      <td>Mitchel</td>\n",
              "      <td>Norm</td>\n",
              "      <td>1Fam</td>\n",
              "      <td>...</td>\n",
              "      <td>NaN</td>\n",
              "      <td>0.0</td>\n",
              "      <td>0.0</td>\n",
              "      <td>NaN</td>\n",
              "      <td>80</td>\n",
              "      <td>32</td>\n",
              "      <td>0</td>\n",
              "      <td>0</td>\n",
              "      <td>WD</td>\n",
              "      <td>Normal</td>\n",
              "    </tr>\n",
              "    <tr>\n",
              "      <th>1458</th>\n",
              "      <td>60</td>\n",
              "      <td>RL</td>\n",
              "      <td>74.0</td>\n",
              "      <td>9627</td>\n",
              "      <td>Reg</td>\n",
              "      <td>Lvl</td>\n",
              "      <td>Inside</td>\n",
              "      <td>Mitchel</td>\n",
              "      <td>Norm</td>\n",
              "      <td>1Fam</td>\n",
              "      <td>...</td>\n",
              "      <td>Fin</td>\n",
              "      <td>3.0</td>\n",
              "      <td>650.0</td>\n",
              "      <td>TA</td>\n",
              "      <td>190</td>\n",
              "      <td>48</td>\n",
              "      <td>0</td>\n",
              "      <td>0</td>\n",
              "      <td>WD</td>\n",
              "      <td>Normal</td>\n",
              "    </tr>\n",
              "  </tbody>\n",
              "</table>\n",
              "<p>1459 rows × 55 columns</p>\n",
              "</div>\n",
              "      <button class=\"colab-df-convert\" onclick=\"convertToInteractive('df-d5d44f30-9b5a-44e4-910c-9055e1b13ce3')\"\n",
              "              title=\"Convert this dataframe to an interactive table.\"\n",
              "              style=\"display:none;\">\n",
              "        \n",
              "  <svg xmlns=\"http://www.w3.org/2000/svg\" height=\"24px\"viewBox=\"0 0 24 24\"\n",
              "       width=\"24px\">\n",
              "    <path d=\"M0 0h24v24H0V0z\" fill=\"none\"/>\n",
              "    <path d=\"M18.56 5.44l.94 2.06.94-2.06 2.06-.94-2.06-.94-.94-2.06-.94 2.06-2.06.94zm-11 1L8.5 8.5l.94-2.06 2.06-.94-2.06-.94L8.5 2.5l-.94 2.06-2.06.94zm10 10l.94 2.06.94-2.06 2.06-.94-2.06-.94-.94-2.06-.94 2.06-2.06.94z\"/><path d=\"M17.41 7.96l-1.37-1.37c-.4-.4-.92-.59-1.43-.59-.52 0-1.04.2-1.43.59L10.3 9.45l-7.72 7.72c-.78.78-.78 2.05 0 2.83L4 21.41c.39.39.9.59 1.41.59.51 0 1.02-.2 1.41-.59l7.78-7.78 2.81-2.81c.8-.78.8-2.07 0-2.86zM5.41 20L4 18.59l7.72-7.72 1.47 1.35L5.41 20z\"/>\n",
              "  </svg>\n",
              "      </button>\n",
              "      \n",
              "  <style>\n",
              "    .colab-df-container {\n",
              "      display:flex;\n",
              "      flex-wrap:wrap;\n",
              "      gap: 12px;\n",
              "    }\n",
              "\n",
              "    .colab-df-convert {\n",
              "      background-color: #E8F0FE;\n",
              "      border: none;\n",
              "      border-radius: 50%;\n",
              "      cursor: pointer;\n",
              "      display: none;\n",
              "      fill: #1967D2;\n",
              "      height: 32px;\n",
              "      padding: 0 0 0 0;\n",
              "      width: 32px;\n",
              "    }\n",
              "\n",
              "    .colab-df-convert:hover {\n",
              "      background-color: #E2EBFA;\n",
              "      box-shadow: 0px 1px 2px rgba(60, 64, 67, 0.3), 0px 1px 3px 1px rgba(60, 64, 67, 0.15);\n",
              "      fill: #174EA6;\n",
              "    }\n",
              "\n",
              "    [theme=dark] .colab-df-convert {\n",
              "      background-color: #3B4455;\n",
              "      fill: #D2E3FC;\n",
              "    }\n",
              "\n",
              "    [theme=dark] .colab-df-convert:hover {\n",
              "      background-color: #434B5C;\n",
              "      box-shadow: 0px 1px 3px 1px rgba(0, 0, 0, 0.15);\n",
              "      filter: drop-shadow(0px 1px 2px rgba(0, 0, 0, 0.3));\n",
              "      fill: #FFFFFF;\n",
              "    }\n",
              "  </style>\n",
              "\n",
              "      <script>\n",
              "        const buttonEl =\n",
              "          document.querySelector('#df-d5d44f30-9b5a-44e4-910c-9055e1b13ce3 button.colab-df-convert');\n",
              "        buttonEl.style.display =\n",
              "          google.colab.kernel.accessAllowed ? 'block' : 'none';\n",
              "\n",
              "        async function convertToInteractive(key) {\n",
              "          const element = document.querySelector('#df-d5d44f30-9b5a-44e4-910c-9055e1b13ce3');\n",
              "          const dataTable =\n",
              "            await google.colab.kernel.invokeFunction('convertToInteractive',\n",
              "                                                     [key], {});\n",
              "          if (!dataTable) return;\n",
              "\n",
              "          const docLinkHtml = 'Like what you see? Visit the ' +\n",
              "            '<a target=\"_blank\" href=https://colab.research.google.com/notebooks/data_table.ipynb>data table notebook</a>'\n",
              "            + ' to learn more about interactive tables.';\n",
              "          element.innerHTML = '';\n",
              "          dataTable['output_type'] = 'display_data';\n",
              "          await google.colab.output.renderOutput(dataTable, element);\n",
              "          const docLink = document.createElement('div');\n",
              "          docLink.innerHTML = docLinkHtml;\n",
              "          element.appendChild(docLink);\n",
              "        }\n",
              "      </script>\n",
              "    </div>\n",
              "  </div>\n",
              "  "
            ]
          },
          "metadata": {},
          "execution_count": 165
        }
      ]
    },
    {
      "cell_type": "markdown",
      "source": [
        "Although there are many different variables, there are some that are almost entire null. We will get rid of those variables, as it has not use to our predictions."
      ],
      "metadata": {
        "id": "D_Pwnk_v1m4z"
      }
    },
    {
      "cell_type": "code",
      "source": [
        "empty_cols = train_data.isna().sum().reset_index(drop=False)\n",
        "empty_cols.columns = [\"column\",\"rows\"]\n",
        "empty_cols[\"missing_pct\"] = (empty_cols[\"rows\"]/train_data.shape[0])*100\n",
        "empty_cols = empty_cols[empty_cols[\"rows\"]>500].sort_values(by=\"missing_pct\",ascending=False)\n",
        "empty = empty_cols['column'].tolist()\n",
        "train_data.drop(empty, axis=1, inplace=True)\n",
        "test_data.drop(empty, axis=1, inplace=True)\n",
        "print(\"Dropping the following empty columns: \", empty)"
      ],
      "metadata": {
        "colab": {
          "base_uri": "https://localhost:8080/"
        },
        "id": "u93MLzfG10ck",
        "outputId": "4f57ee14-5a28-490c-a1a3-c6ef4269f85d"
      },
      "execution_count": null,
      "outputs": [
        {
          "output_type": "stream",
          "name": "stdout",
          "text": [
            "Dropping the following empty columns:  ['PoolQC', 'MiscFeature', 'Alley', 'Fence', 'FireplaceQu']\n"
          ]
        }
      ]
    },
    {
      "cell_type": "markdown",
      "source": [
        "Cleaning of Numerical Data\n",
        "\n",
        "I will import a package called fast_ml to easily find constant variables. These are variables where 95% or more of the values are identical. We will drop these variables because since they are all the same, it is reasonable to assume that they will have little to no impact on the sales price."
      ],
      "metadata": {
        "id": "s6i5b9oR6KU6"
      }
    },
    {
      "cell_type": "code",
      "source": [
        "train_numerical_cols = train_data.select_dtypes(exclude=[\"object\"])\n",
        "from fast_ml.utilities import display_all\n",
        "from fast_ml.feature_selection import get_constant_features\n",
        "\n",
        "constant_features = get_constant_features(train_numerical_cols, threshold=0.95, dropna=False)\n",
        "constant_features_list = constant_features['Var'].to_list()\n",
        "print(\"Dropping the following constant columns: \", constant_features_list)\n",
        "train_data.drop(constant_features_list, axis=1, inplace=True)\n",
        "test_data.drop(constant_features_list, axis=1, inplace=True)"
      ],
      "metadata": {
        "colab": {
          "base_uri": "https://localhost:8080/"
        },
        "id": "DJ65opLwv-GR",
        "outputId": "61dc39d7-3453-4738-b749-d7df8ca75914"
      },
      "execution_count": null,
      "outputs": [
        {
          "output_type": "stream",
          "name": "stdout",
          "text": [
            "Dropping the following constant columns:  ['PoolArea', '3SsnPorch', 'LowQualFinSF', 'MiscVal', 'KitchenAbvGr']\n"
          ]
        }
      ]
    },
    {
      "cell_type": "markdown",
      "source": [
        "Finding the Correlation Between the Numerical Data and Sales Price\n",
        "\n",
        "We will use the functionality with pandas to identify which variables are highly correlated with the sales price. This will give us insight into which variables impact sales price the most."
      ],
      "metadata": {
        "id": "yF4QOh-GG3QW"
      }
    },
    {
      "cell_type": "code",
      "source": [
        "correlation_matrix = train_data.select_dtypes(exclude=[\"object\"]).corr()\n",
        "corr = correlation_matrix[\"SalePrice\"].sort_values(ascending = False)\n",
        "print(corr)"
      ],
      "metadata": {
        "colab": {
          "base_uri": "https://localhost:8080/"
        },
        "id": "TF5yolhuzbP3",
        "outputId": "3f6bb7a1-c9e4-466c-9dfa-69ef87cd1bb4"
      },
      "execution_count": null,
      "outputs": [
        {
          "output_type": "stream",
          "name": "stdout",
          "text": [
            "SalePrice        1.000000\n",
            "OverallQual      0.790982\n",
            "GrLivArea        0.708624\n",
            "GarageCars       0.640409\n",
            "GarageArea       0.623431\n",
            "TotalBsmtSF      0.613581\n",
            "1stFlrSF         0.605852\n",
            "FullBath         0.560664\n",
            "TotRmsAbvGrd     0.533723\n",
            "YearBuilt        0.522897\n",
            "YearRemodAdd     0.507101\n",
            "GarageYrBlt      0.486362\n",
            "MasVnrArea       0.477493\n",
            "Fireplaces       0.466929\n",
            "BsmtFinSF1       0.386420\n",
            "LotFrontage      0.351799\n",
            "WoodDeckSF       0.324413\n",
            "2ndFlrSF         0.319334\n",
            "OpenPorchSF      0.315856\n",
            "HalfBath         0.284108\n",
            "LotArea          0.263843\n",
            "BsmtFullBath     0.227122\n",
            "BsmtUnfSF        0.214479\n",
            "BedroomAbvGr     0.168213\n",
            "ScreenPorch      0.111447\n",
            "MoSold           0.046432\n",
            "BsmtFinSF2      -0.011378\n",
            "BsmtHalfBath    -0.016844\n",
            "Id              -0.021917\n",
            "YrSold          -0.028923\n",
            "OverallCond     -0.077856\n",
            "MSSubClass      -0.084284\n",
            "EnclosedPorch   -0.128578\n",
            "Name: SalePrice, dtype: float64\n"
          ]
        }
      ]
    },
    {
      "cell_type": "markdown",
      "source": [
        "From this data, we can see that the number one variable that directly correlates to the sales price is the overall quality of the property, which makes sense. Other highly correlated variables include GrLivArea, which is the square footage of the above ground living area, GarageCars, which states how many cars fit in the garage. The variables that were least correlated include BsmtHalfBath, which indicates the number of half baths a basement has, and the month and year that the house was sold.\n",
        "\n",
        "Next, we will visualize the highly correlated variables in a graph."
      ],
      "metadata": {
        "id": "4kHDbi0G8F9U"
      }
    },
    {
      "cell_type": "code",
      "source": [
        "high_corr = corr[:6].index.tolist()\n",
        "df_high_corr = train_data.loc[:, high_corr]\n",
        "sns.set(rc={\"figure.figsize\": (15, 5)})\n",
        "fig, ax = plt.subplots(2, 3)\n",
        "for i, ax in enumerate(fig.axes):\n",
        "    if i > 0:\n",
        "      sns.regplot(x=high_corr[i], y=\"SalePrice\", data=df_high_corr, ax=ax, scatter_kws={\"color\": \"lime\"}, line_kws={\"color\": \"black\"})\n",
        "plt.tight_layout()"
      ],
      "metadata": {
        "colab": {
          "base_uri": "https://localhost:8080/",
          "height": 365
        },
        "id": "SBJRcIAP-QTP",
        "outputId": "2a73b291-613b-40b8-99c9-47f3e9f73cf0"
      },
      "execution_count": null,
      "outputs": [
        {
          "output_type": "display_data",
          "data": {
            "text/plain": [
              "<Figure size 1080x360 with 6 Axes>"
            ],
            "image/png": "[encoded data removed]"
          },
          "metadata": {}
        }
      ]
    },
    {
      "cell_type": "markdown",
      "source": [
        "From these graph, we are able to visualize the positive correlation of these graphs. As we can see, typically the higher the overall quality of the house, the higher the sale price.\n",
        "\n",
        "Next, after carefully reviewing the list of correlations and quantitative data, I have decided to drop a few that have no correlation both based on the data and based on my previous knowledge and research."
      ],
      "metadata": {
        "id": "mpiYojosDolc"
      }
    },
    {
      "cell_type": "code",
      "source": [
        "no_corr_columns = ['MoSold', 'YrSold', 'BsmtFinSF2']\n",
        "train_data.drop(no_corr_columns, axis=1, inplace=True)\n",
        "test_data.drop(no_corr_columns, axis=1, inplace=True)\n",
        "print(\"Dropping the following columns that have no correlation to sales price: \", no_corr_columns)"
      ],
      "metadata": {
        "colab": {
          "base_uri": "https://localhost:8080/"
        },
        "id": "LfP5y04qy4jC",
        "outputId": "2d12ccfd-843b-4fa9-b381-5da52e36d080"
      },
      "execution_count": null,
      "outputs": [
        {
          "output_type": "stream",
          "name": "stdout",
          "text": [
            "Dropping the following columns that have no correlation to sales price:  ['MoSold', 'YrSold', 'BsmtFinSF2']\n"
          ]
        }
      ]
    },
    {
      "cell_type": "markdown",
      "source": [
        "Let's take a look at which numerical quantitative data we have remaining."
      ],
      "metadata": {
        "id": "2Lm9mpGg8iG7"
      }
    },
    {
      "cell_type": "code",
      "source": [
        "numerical_cols = train_data.select_dtypes(exclude=[\"object\"])\n",
        "print(\"Remaining numerical columns: \", numerical_cols.columns)"
      ],
      "metadata": {
        "colab": {
          "base_uri": "https://localhost:8080/"
        },
        "id": "WoBKSXe88E86",
        "outputId": "e88c9b36-35bb-427f-aa81-0f7f6074ce30"
      },
      "execution_count": null,
      "outputs": [
        {
          "output_type": "stream",
          "name": "stdout",
          "text": [
            "Remaining numerical columns:  Index(['Id', 'MSSubClass', 'LotFrontage', 'LotArea', 'OverallQual',\n",
            "       'OverallCond', 'YearBuilt', 'YearRemodAdd', 'MasVnrArea', 'BsmtFinSF1',\n",
            "       'BsmtUnfSF', 'TotalBsmtSF', '1stFlrSF', '2ndFlrSF', 'GrLivArea',\n",
            "       'BsmtFullBath', 'BsmtHalfBath', 'FullBath', 'HalfBath', 'BedroomAbvGr',\n",
            "       'TotRmsAbvGrd', 'Fireplaces', 'GarageYrBlt', 'GarageCars', 'GarageArea',\n",
            "       'WoodDeckSF', 'OpenPorchSF', 'EnclosedPorch', 'ScreenPorch',\n",
            "       'SalePrice'],\n",
            "      dtype='object')\n"
          ]
        }
      ]
    },
    {
      "cell_type": "markdown",
      "source": [
        "Now that we have worked on the numerical quantitative data, we will move onto the categorical data given in the dataset. First, we will seek out the categorial variables that don't have a lot of unique values. If all the values are the same, then the value itself won't have an impact on the final sales price."
      ],
      "metadata": {
        "id": "xkydPabFG3Dk"
      }
    },
    {
      "cell_type": "code",
      "source": [
        "train_object_cols = train_data.select_dtypes(include=['object'])\n",
        "constant_features = get_constant_features(train_object_cols, threshold=0.90, dropna=False)\n",
        "constant_features_list = constant_features['Var'].to_list()\n",
        "train_data.drop(constant_features_list, axis=1, inplace=True)\n",
        "test_data.drop(constant_features_list, axis=1, inplace=True)\n",
        "print(\"Dropping the following constant columns: \", constant_features_list)"
      ],
      "metadata": {
        "colab": {
          "base_uri": "https://localhost:8080/"
        },
        "id": "CMdEwEIpPbqA",
        "outputId": "de7d8a4a-e7ea-43cf-93a0-ceb385dd8123"
      },
      "execution_count": null,
      "outputs": [
        {
          "output_type": "stream",
          "name": "stdout",
          "text": [
            "Dropping the following constant columns:  ['Utilities', 'Street', 'Condition2', 'RoofMatl', 'Heating', 'LandSlope', 'CentralAir', 'Functional', 'PavedDrive', 'Electrical', 'GarageCond']\n"
          ]
        }
      ]
    },
    {
      "cell_type": "markdown",
      "source": [
        "The next step is to fill up the remaining NA values within each column to make it easier to analyze the data. To simplify things, we will just fill the NA values withe the most common occurrence, or the mode. Once we get rid of the NAs, we will be using one hot encoding to make the categorical data easier to analyze."
      ],
      "metadata": {
        "id": "IsgU-_rRU-Kb"
      }
    },
    {
      "cell_type": "code",
      "source": [
        "train_object_cols = train_data.select_dtypes(include=['object'])\n",
        "train_object_cols = train_object_cols.fillna(train_object_cols.mode().iloc[0])\n",
        "train_object_cols = pd.get_dummies(train_object_cols, columns=train_object_cols.columns)\n",
        "test_object_cols = test_data.select_dtypes(include=['object'])\n",
        "test_object_cols = test_object_cols.fillna(test_object_cols.mode().iloc[0])\n",
        "test_object_cols = pd.get_dummies(test_object_cols, columns=test_object_cols.columns) "
      ],
      "metadata": {
        "id": "sC10wDqVU-WB"
      },
      "execution_count": null,
      "outputs": []
    },
    {
      "cell_type": "markdown",
      "source": [
        "We can now analyze the correlation between sales price and the categorical variables."
      ],
      "metadata": {
        "id": "j9UCXnpvbeoM"
      }
    },
    {
      "cell_type": "code",
      "source": [
        "train_object_cols[\"SalePrice\"] = train_data[\"SalePrice\"]\n",
        "train_object_corr=train_object_cols.corr()\n",
        "corr = train_object_corr[\"SalePrice\"].sort_values(ascending=False)\n",
        "print(corr)"
      ],
      "metadata": {
        "colab": {
          "base_uri": "https://localhost:8080/"
        },
        "id": "M-Th6MmLbdZ4",
        "outputId": "d11f8ba8-374b-4526-a87c-a24a3fdf860a"
      },
      "execution_count": null,
      "outputs": [
        {
          "output_type": "stream",
          "name": "stdout",
          "text": [
            "SalePrice           1.000000\n",
            "BsmtQual_Ex         0.553105\n",
            "KitchenQual_Ex      0.504094\n",
            "Foundation_PConc    0.497734\n",
            "ExterQual_Gd        0.452466\n",
            "                      ...   \n",
            "MasVnrType_None    -0.367456\n",
            "BsmtQual_TA        -0.498545\n",
            "GarageFinish_Unf   -0.513906\n",
            "KitchenQual_TA     -0.519298\n",
            "ExterQual_TA       -0.589044\n",
            "Name: SalePrice, Length: 184, dtype: float64\n"
          ]
        }
      ]
    },
    {
      "cell_type": "markdown",
      "source": [
        "We can see that the categorical data have some positive and negative correlations with the sales price.\n",
        "\n",
        "Now that all the data has been prepped and cleaned, we will combine the relevant information so we have the clean data in a test and train dataset."
      ],
      "metadata": {
        "id": "zq-dnjBpey8e"
      }
    },
    {
      "cell_type": "code",
      "source": [
        "train_numerical_vars = train_data.select_dtypes(exclude=[\"object\"])\n",
        "test_numerical_vars = test_data.select_dtypes(exclude=[\"object\"])\n",
        "\n",
        "train_df = pd.concat([train_numerical_vars, train_object_cols], axis=1).drop_duplicates()\n",
        "test_df = pd.concat([test_numerical_vars, test_object_cols], axis=1).drop_duplicates()\n",
        "train_x = train_df.loc[:, train_df.columns != 'SalePrice']\n",
        "train_y = train_df.loc[:, train_df.columns == 'SalePrice']\n",
        "train_y = train_y.iloc[: , 1:]"
      ],
      "metadata": {
        "id": "uqAZUXXgfeBh"
      },
      "execution_count": null,
      "outputs": []
    },
    {
      "cell_type": "markdown",
      "source": [
        "We will not move onto creating the Random Forest model. The first step is to create a DecisionTree class. \n",
        "\n",
        "The DecisionTree class will have an x, which represents the x values, or the variables, a y which represents the sales price, a depth of the tree so we can navigate through each node and a max depth that will serve as a stopper.\n",
        "\n",
        "Within the DecisionTree class, will will first make a function that will find the best variable and threshold to split on. In order to split the tree into nodes, we must find the optimal criteria that will minimize the RSS. We will create a function called find_criteria that will parse through all the posible variables that we can split on and check each possible threshold for those variables to find the one that will minimize the RSS. The RSS formula is:\n",
        "\n",
        "$\\sum_{i=1}^{n} (y_i-f(x_i))^2$\n",
        "\n",
        "We will calculate the sum of the rss value of the left node and the rss value of the second node to compute the total rss. Here, we will implore the use of Jax as an alternative to numpy, and will be used to do calculations such as sum and mean. Using jax in this setting will help to speed up the computation, as this operation will be called numerous times during the learning process.\n",
        "\n",
        "The split_tree function will recursively build out the tree by finding a criteria that will work best to split each node until the max depth is reached.\n",
        "\n",
        "We also need a function that will compute the predictions. The predict function will parse the input variables through the tree and will provide a prediction based on the rules of the tree that were assigned when it was being built."
      ],
      "metadata": {
        "id": "ep0GIMYefSVT"
      }
    },
    {
      "cell_type": "code",
      "source": [
        "class DecisionTree:\n",
        "    def __init__(self, x_values, y_values, depth=0, max_depth=3):\n",
        "        \n",
        "        self.x_values = x_values #A list of values for each variable\n",
        "        self.y_values = y_values #The sales price associated with the variables\n",
        "        self.depth = depth #The current depth of the tree\n",
        "        self.max_depth = max_depth #The maximum depth of the tree\n",
        "        self.split_tree(self.x_values, self.y_values, self.depth, self.max_depth)\n",
        "\n",
        "    def find_criteria(self, x_values, y_values): #Find the ideal criteria on which we can split the tree\n",
        "        target_var = None\n",
        "        target_threshold = None\n",
        "        min_rss = float(\"inf\")\n",
        "        \n",
        "        for var in x_values.columns: #Check through each variable to find the ideal variable that will minimize the RSS\n",
        "            thresholds = np.array(x_values[var].unique())\n",
        "            for threshold in thresholds: #For each variable, check each threshold to find the ideal one\n",
        "                left_y_ix = x_values[var] < threshold\n",
        "                left_y_np = y_values[left_y_ix].to_numpy() #Store the values less than the threshold and convert to a numpy array for easy jax computations\n",
        "                right_y_np = y_values[~left_y_ix].to_numpy() #Store the values greater than the threshold and convert to a numpy array for easy jax computations\n",
        "                trss = jax.numpy.sum((left_y_np-jax.numpy.mean(left_y_np))**2) + jax.numpy.sum((right_y_np-jax.numpy.mean(right_y_np))**2) #Calculate the RSS to see if it is ideal\n",
        "                if trss < min_rss: #Find the minimum RSS for all thresholds in all variables\n",
        "                    min_rss = trss\n",
        "                    target_threshold = threshold\n",
        "                    target_var = var\n",
        "        return {'Column': target_var, 'Threshold': target_threshold} #Return a dict to indicate the idea variable and threshold for that variable\n",
        "            \n",
        "   \n",
        "    def split_tree(self, x_values, y_values, depth, max_depth): #We will split the tree into two decision nodes using the criteria\n",
        "        if(depth == max_depth or len(x_values) < 2):\n",
        "            return {'Prediction': np.mean(y_values)}\n",
        "        treeRule = self.find_criteria(x_values, y_values) #Find the ideal variable and threshold to split on\n",
        "        left_ix = x_values[treeRule['Column']] < treeRule['Threshold'] \n",
        "        \n",
        "        treeRule['left'] = self.split_tree(x_values[left_ix], y_values[left_ix], depth+1, max_depth) #Recursively split the left node containing elements to the left of the threshold\n",
        "       \n",
        "        treeRule['right'] = self.split_tree(x_values[~left_ix], y_values[~left_ix], depth+1, max_depth) #Recursively split the right node containing elements to the right of the threshold\n",
        "        \n",
        "        self.treeRules = treeRule\n",
        "        \n",
        "        return treeRule #Return the fully created tree that has multiple decision nodes\n",
        "  \n",
        "    def predict(self, s, treeRules): # Predict the price given the x variables\n",
        "        prediction = None\n",
        "        while prediction is None:\n",
        "            Column = treeRules['Column']\n",
        "            Threshold = treeRules['Threshold']\n",
        "            if(s[Column] < Threshold): #Check if the chosen variable of the node is less than or greater than the threshold\n",
        "                treeRules = treeRules['left']\n",
        "            else:\n",
        "                treeRules = treeRules['right']\n",
        "            prediction = treeRules.get('Prediction', None)\n",
        "        return prediction\n",
        "        \n",
        "    def tree_prediction(self, x_values): #Traverse the nodes to find the predicted price\n",
        "        predictions = x_values.apply(self.predict, axis=1, treeRules = self.treeRules) #Get the predictions by calling the predict function for each x value\n",
        "        return predictions"
      ],
      "metadata": {
        "id": "vu2HUUerfSbA"
      },
      "execution_count": null,
      "outputs": []
    },
    {
      "cell_type": "markdown",
      "source": [
        "Now that the DecisionTree class is completed, we can move onto creating the Random Forest that will utilize a number of DecisionTrees to find the best results.\n",
        "\n",
        "The build_tree function will be used to create DecisionTree objects.\n",
        "\n",
        "The build_forest function will populate the forest with a specified number of DecisionTree objects.\n",
        "\n",
        "The make_prediction function will predict the final sale prices."
      ],
      "metadata": {
        "id": "BJpVoDdL67jn"
      }
    },
    {
      "cell_type": "code",
      "source": [
        "class RandomForest():   \n",
        "    def __init__(self, n, max_depth =3, bootstrap=0.9):\n",
        "        self.n = n #Number of trees we will have in the forest\n",
        "        self.max_depth = max_depth #Maximum depth of each tree in the forest\n",
        "        self.bootstrap = bootstrap\n",
        "\n",
        "    def bootstrap_sample(self, x_values, y_values):\n",
        "        return np.random.randint(len(x_values), size=int(len(x_values)*self.bootstrap))\n",
        "\n",
        "    def build_tree(self, x_values, y_values): #Create a DecisionTree object using random input data\n",
        "        random_vals = self.bootstrap_sample(x_values,y_values) #Create random input data from the given values\n",
        "        return DecisionTree(x_values.iloc[random_vals], y_values.iloc[random_vals], depth = 0, max_depth = self.max_depth) #Create a DecisionTree object with the random input\n",
        "\n",
        "    def build_forest(self, x_values, y_values): #Create n number of trees to populate the forest\n",
        "        self.DecisionTrees = [] #List of DecisionTree objects in the forest\n",
        "        for i in range(self.n):\n",
        "          self.DecisionTrees.append(self.build_tree(x_values, y_values)) #Populate the forest and append each DecisionTree object to the list\n",
        "        print(\"Forest created successfully\")\n",
        "        return self.DecisionTrees\n",
        "    def make_prediction(self, x): #Find the predictions of each tree and output the mean of each prediction\n",
        "        results = [] #Store the sales price predictions in an array\n",
        "        for tree in self.DecisionTrees:\n",
        "            results.append(tree.tree_prediction(x)) #For each tree, find the predicted sales price\n",
        "        final_results = np.mean(results, axis=0) #Get the average of all the DecisionTree predictions to get the final prediction for the forest\n",
        "        return final_results"
      ],
      "metadata": {
        "id": "Cqwad46j67yI"
      },
      "execution_count": null,
      "outputs": []
    },
    {
      "cell_type": "markdown",
      "source": [
        "In order to test the results of the algorithm, we will use Mean Squared Error (MSE). MSE will calculate the amount of error in the prediction vs. the actual value. The formula for MSE is:\n",
        "\n",
        "$MSE = \\frac{1} {n}\\sum_{i=1}^{n}(y_i-\\hat{y_i})^2$\n",
        "\n",
        "We will create a python function that will utilize jax to quickly do the calculations."
      ],
      "metadata": {
        "id": "pkBJwUzDB8R7"
      }
    },
    {
      "cell_type": "code",
      "source": [
        "def MSE(y_pred, y_actual): #Calculate the Mean Squared Error for the predicted sales price and actual sales price\n",
        "  error = jax.numpy.subtract(y_pred,y_actual)\n",
        "  squared_error = jax.numpy.square(error)\n",
        "  sum_squared_error = np.sum(squared_error)\n",
        "  mean_squared_error = sum_squared_error/y_pred.size\n",
        "  return mean_squared_error"
      ],
      "metadata": {
        "id": "ch4xZeS6oZdz"
      },
      "execution_count": null,
      "outputs": []
    },
    {
      "cell_type": "markdown",
      "source": [
        "We are now ready to test the effectiveness of our Decision Tree and Random Forest models. To do so, we will split the training dataset into two parts, one of which will be the training set and the other a test set. We have to break down the training dataset because it is the only set that includes the sales prices. We will perform a 75-25 split, which means that 75% of the data will be used to generate the Random Forest and 25% will be used to test the effectiveness of the predictions."
      ],
      "metadata": {
        "id": "cpALwa92pOXs"
      }
    },
    {
      "cell_type": "code",
      "source": [
        "train_forest = train_df.sample(frac=0.75) #The data that will be used to train the forest\n",
        "test_forest = train_df.drop(train_forest.index) #The data that will be used to test the forest\n",
        "train_forest_x = train_forest.loc[:, train_forest.columns != 'SalePrice'] #The variables in the dataset\n",
        "train_forest_y = train_forest.loc[:, train_forest.columns == 'SalePrice'] #The sales price of the dataset"
      ],
      "metadata": {
        "id": "f-ADNxbep1LA"
      },
      "execution_count": null,
      "outputs": []
    },
    {
      "cell_type": "markdown",
      "source": [
        "Create a RandomForest that will have 10 trees each with a max depth of 3."
      ],
      "metadata": {
        "id": "t1eh7ChFvYvb"
      }
    },
    {
      "cell_type": "code",
      "source": [
        "forest_model = RandomForest(n=10, max_depth = 3, bootstrap=0.9)\n",
        "forest_model.build_forest(train_forest_x, train_forest_y)"
      ],
      "metadata": {
        "colab": {
          "base_uri": "https://localhost:8080/"
        },
        "id": "JNUR9oydB_mH",
        "outputId": "f09610cd-2180-4249-d7fb-725cf59993e6"
      },
      "execution_count": null,
      "outputs": [
        {
          "output_type": "stream",
          "name": "stdout",
          "text": [
            "Forest created successfully\n"
          ]
        },
        {
          "output_type": "execute_result",
          "data": {
            "text/plain": [
              "[<__main__.DecisionTree at 0x7fc8525800d0>,\n",
              " <__main__.DecisionTree at 0x7fc850500c90>,\n",
              " <__main__.DecisionTree at 0x7fc850500fd0>,\n",
              " <__main__.DecisionTree at 0x7fc8504ad8d0>,\n",
              " <__main__.DecisionTree at 0x7fc85050a050>,\n",
              " <__main__.DecisionTree at 0x7fc850481650>,\n",
              " <__main__.DecisionTree at 0x7fc8502ebcd0>,\n",
              " <__main__.DecisionTree at 0x7fc850655450>,\n",
              " <__main__.DecisionTree at 0x7fc850729050>,\n",
              " <__main__.DecisionTree at 0x7fc850481e50>]"
            ]
          },
          "metadata": {},
          "execution_count": 128
        }
      ]
    },
    {
      "cell_type": "markdown",
      "source": [
        "Now that the model is created, we can use it to make predictions. Once again, we will break up the test dataset. This way, we will have the x values and also the actual y values, or the sales price, associated with the variables. This allows us to the test the predictions vs. the actual prices. Use the model to make predictions on the test x values."
      ],
      "metadata": {
        "id": "WPuKVdYG0Iqw"
      }
    },
    {
      "cell_type": "code",
      "source": [
        "test_forest_x = test_forest.loc[:, test_forest.columns != 'SalePrice'] #The variables in the dataset\n",
        "test_forest_y = test_forest.loc[:, test_forest.columns == 'SalePrice']\n",
        "price_predictions=forest_model.make_prediction(test_forest_x)\n",
        "price_predictions = price_predictions[:,0]"
      ],
      "metadata": {
        "id": "rDM6C2GTLrHi"
      },
      "execution_count": null,
      "outputs": []
    },
    {
      "cell_type": "markdown",
      "source": [
        "Let's check the MSE of the predictions vs. the actual prices. In the competition, the results are judged on Root Mean Squared Error, so we will calculate that as well.\n",
        "Data Analysis:"
      ],
      "metadata": {
        "id": "Xm6UvyPc1e9S"
      }
    },
    {
      "cell_type": "code",
      "source": [
        "import math\n",
        "price_actual = test_forest_y['SalePrice'].to_numpy()\n",
        "price_actual = price_actual[:,0]\n",
        "forest_model_MSE = MSE(price_predictions, price_actual)\n",
        "print(\"MSE: \", forest_model_MSE)\n",
        "print(\"RMSE: \", math.sqrt(forest_model_MSE))\n",
        "diff = np.subtract(price_predictions, price_actual)\n",
        "diff = np.absolute(diff)\n",
        "average_deviation = np.sum(diff)/diff.size\n",
        "print(\"Average Deviation: \", average_deviation)\n",
        "print(\"Average Deviation %: \", average_deviation/price_actual.mean())"
      ],
      "metadata": {
        "colab": {
          "base_uri": "https://localhost:8080/"
        },
        "id": "WuCnWjaf1kRI",
        "outputId": "508ee083-0d25-4ab0-c3ef-be5d204393a8"
      },
      "execution_count": null,
      "outputs": [
        {
          "output_type": "stream",
          "name": "stdout",
          "text": [
            "MSE:  1583266400.0\n",
            "RMSE:  39790.280622282626\n",
            "Average Deviation:  27465.197159346488\n",
            "Average Deviation %:  0.15275596407797945\n"
          ]
        }
      ]
    },
    {
      "cell_type": "markdown",
      "source": [
        "This tells us that while the MSE is very large, that is also due to the very high sales prices involved in the data. The predictions typically deviated from the actual sales price by about $27,465. This equates to about a 15% deviation from the predicted price vs. actual price.\n",
        "\n",
        "We can now use this forest model to create our submission. The submission states that the result should be in a dataframe that has 2 columns, the ID and the sales price."
      ],
      "metadata": {
        "id": "srXxd_RN74oL"
      }
    },
    {
      "cell_type": "code",
      "source": [
        "final_price_predictions=forest_model.make_prediction(test_df)\n",
        "final_price_predictions = final_price_predictions[:,0]\n",
        "final_df = pd.DataFrame(Test_IDs, columns=['Id', 'SalePrice'])\n",
        "final_df['SalePrice'] = final_price_predictions\n",
        "print(final_df)"
      ],
      "metadata": {
        "colab": {
          "base_uri": "https://localhost:8080/"
        },
        "id": "-NVG60W9BJFo",
        "outputId": "ff479786-f33e-4eb0-8ea0-1a0f7c6c5582"
      },
      "execution_count": null,
      "outputs": [
        {
          "output_type": "stream",
          "name": "stdout",
          "text": [
            "        Id      SalePrice\n",
            "0     1461  122234.350559\n",
            "1     1462  145220.819268\n",
            "2     1463  163828.946954\n",
            "3     1464  163828.946954\n",
            "4     1465  252530.313580\n",
            "...    ...            ...\n",
            "1454  2915  116823.591790\n",
            "1455  2916  116823.591790\n",
            "1456  2917  146219.073801\n",
            "1457  2918  120788.273540\n",
            "1458  2919  225683.881930\n",
            "\n",
            "[1459 rows x 2 columns]\n"
          ]
        }
      ]
    },
    {
      "cell_type": "markdown",
      "source": [
        "This is the final result that we would be submitting into the competition.\n",
        "\n",
        "In this program, we have utilized many techniques for data cleaning, visualization and analysis. We have also learned about the powerful tool that is JAX, which has helped us with the computations in the Random Forest machine learning algorithm."
      ],
      "metadata": {
        "id": "oH2lUrldC2Uo"
      }
    },
    {
      "cell_type": "markdown",
      "source": [
        "Sources:\n",
        "\n",
        "1) https://jax.readthedocs.io/en/latest/notebooks/quickstart.html\n",
        "\n",
        "2) https://jax.readthedocs.io/en/latest/jax.numpy.html\n",
        "\n",
        "3) https://analyticsindiamag.com/how-to-speed-up-machine-learning-operations-with-jax/\n",
        "\n",
        "4) https://www.kaggle.com/code/abdelrahmantarek13/houseprice-step-by-step\n",
        "\n",
        "5) https://towardsdatascience.com/how-to-detect-constant-quasi-constant-features-in-your-dataset-a1ab7aea34b4\n",
        "\n",
        "6) https://www.kaggle.com/code/lildatascientist/decision-tree-and-random-forest-from-scratch\n",
        "\n",
        "7) https://www.kaggle.com/c/house-prices-advanced-regression-techniques\n",
        "\n",
        "8) https://medium.com/hanman/data-modeling-building-a-house-price-prediction-model-1450f825073b"
      ],
      "metadata": {
        "id": "SzAc_mhtWbuC"
      }
    }
  ]
}